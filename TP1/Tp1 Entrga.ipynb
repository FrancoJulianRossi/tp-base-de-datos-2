{
  "nbformat": 4,
  "nbformat_minor": 0,
  "metadata": {
    "colab": {
      "provenance": []
    },
    "kernelspec": {
      "name": "python3",
      "display_name": "Python 3"
    },
    "language_info": {
      "name": "python"
    }
  },
  "cells": [
    {
      "cell_type": "code",
      "source": [
        "!pip install pymysql\n",
        "%load_ext sql\n",
        "!rm -rf ejemplos.db\n",
        "%sql sqlite:///ejemplos.db"
      ],
      "metadata": {
        "id": "DRIupxipNuoC",
        "colab": {
          "base_uri": "https://localhost:8080/"
        },
        "outputId": "cd052242-ba8f-456e-991e-7b51f4352848"
      },
      "execution_count": null,
      "outputs": [
        {
          "output_type": "stream",
          "name": "stdout",
          "text": [
            "Collecting pymysql\n",
            "  Downloading PyMySQL-1.1.1-py3-none-any.whl.metadata (4.4 kB)\n",
            "Downloading PyMySQL-1.1.1-py3-none-any.whl (44 kB)\n",
            "\u001b[?25l   \u001b[90m━━━━━━━━━━━━━━━━━━━━━━━━━━━━━━━━━━━━━━━━\u001b[0m \u001b[32m0.0/45.0 kB\u001b[0m \u001b[31m?\u001b[0m eta \u001b[36m-:--:--\u001b[0m\r\u001b[2K   \u001b[90m━━━━━━━━━━━━━━━━━━━━━━━━━━━━━━━━━━━━━━━━\u001b[0m \u001b[32m45.0/45.0 kB\u001b[0m \u001b[31m2.1 MB/s\u001b[0m eta \u001b[36m0:00:00\u001b[0m\n",
            "\u001b[?25hInstalling collected packages: pymysql\n",
            "Successfully installed pymysql-1.1.1\n"
          ]
        }
      ]
    },
    {
      "cell_type": "markdown",
      "source": [
        "Ejercicio 1:"
      ],
      "metadata": {
        "id": "QN5TST9Ogskk"
      }
    },
    {
      "cell_type": "code",
      "source": [
        "%%sql\n",
        "\n",
        "CREATE TABLE Estudiantes (\n",
        "id_estudiante INT PRIMARY KEY,\n",
        "nombre VARCHAR(50)\n",
        ");\n",
        "CREATE TABLE Cursos (\n",
        "id_curso INT PRIMARY KEY,\n",
        "nombre VARCHAR(50)\n",
        ");\n",
        "CREATE TABLE Matriculas (\n",
        "id_matricula INT PRIMARY KEY,\n",
        "id_estudiante INT,\n",
        "id_curso INT,\n",
        "fecha DATE,\n",
        "FOREIGN KEY (id_estudiante) REFERENCES Estudiantes(id_estudiante),\n",
        "FOREIGN KEY (id_curso) REFERENCES Cursos(id_curso)\n",
        ");\n"
      ],
      "metadata": {
        "colab": {
          "base_uri": "https://localhost:8080/"
        },
        "id": "NAEnxi1ygDEf",
        "outputId": "74f90e17-61b2-4ddd-ac8c-88df1c9f1b35"
      },
      "execution_count": null,
      "outputs": [
        {
          "output_type": "stream",
          "name": "stdout",
          "text": [
            " * sqlite:///ejemplos.db\n",
            "Done.\n",
            "Done.\n"
          ]
        },
        {
          "output_type": "execute_result",
          "data": {
            "text/plain": [
              "[]"
            ]
          },
          "metadata": {},
          "execution_count": 4
        }
      ]
    },
    {
      "cell_type": "markdown",
      "source": [
        "Opciones para evitar violaciones a la integridad referencial."
      ],
      "metadata": {
        "id": "4hP9bC8uhrpk"
      }
    },
    {
      "cell_type": "code",
      "source": [
        "%%sql\n",
        "FOREIGN KEY (id_estudiante) REFERENCES Estudiantes(id_estudiante) ON DELETE CASCADE\n",
        "FOREIGN KEY (id_estudiante) REFERENCES Estudiantes(id_estudiante) ON DELETE SET NULL"
      ],
      "metadata": {
        "id": "PZz5DECBiMXV"
      },
      "execution_count": null,
      "outputs": []
    },
    {
      "cell_type": "markdown",
      "source": [
        "Ejercicio 2:"
      ],
      "metadata": {
        "id": "WHoEj3uai4Oc"
      }
    },
    {
      "cell_type": "code",
      "source": [
        "%%sql\n",
        "INSERT INTO Cursos (id_curso, nombre_curso) VALUES (1, 'Matemáticas');\n",
        "INSERT INTO Cursos (id_curso, nombre_curso) VALUES (2, 'Historia');\n",
        "INSERT INTO Matriculas (id_matricula, id_estudiante, id_curso) VALUES (1, 999, 1);"
      ],
      "metadata": {
        "id": "n7uhAEMEjXOL"
      },
      "execution_count": null,
      "outputs": []
    },
    {
      "cell_type": "markdown",
      "source": [
        "**Mensaje de Error:**\n",
        "ERROR 1452 (23000): Cannot add or update a child row: a foreign key constraint fails\n",
        "(basedatos.Matriculas, CONSTRAINT Matriculas_ibfk_1 FOREIGN KEY (id_estudiante)\n",
        "REFERENCES Estudiantes (id_estudiante))"
      ],
      "metadata": {
        "id": "TJJl18gojmCs"
      }
    },
    {
      "cell_type": "markdown",
      "source": [
        "Ejercicio 3:"
      ],
      "metadata": {
        "id": "FyJqYRX9j5iC"
      }
    },
    {
      "cell_type": "code",
      "source": [
        "%%sql\n",
        "\n",
        "CREATE TABLE Cuentas (\n",
        "    id_cuenta INT PRIMARY KEY,\n",
        "    saldo DECIMAL(10, 2)\n",
        ");\n",
        "INSERT INTO Cuentas (id_cuenta, saldo) VALUES (1, 500.00);"
      ],
      "metadata": {
        "id": "j4y3tf1vj8qE"
      },
      "execution_count": null,
      "outputs": []
    },
    {
      "cell_type": "markdown",
      "source": [
        "READ COMMITED:"
      ],
      "metadata": {
        "id": "NTGiiCp9kLZD"
      }
    },
    {
      "cell_type": "code",
      "source": [
        "%%sql\n",
        "--Primer usuario\n",
        "START TRANSACTION;\n",
        "SELECT saldo FROM Cuentas WHERE id_cuenta = 1;\n",
        "UPDATE Cuentas SET saldo = saldo - 100 WHERE id_cuenta = 1;\n",
        "COMMIT;\n",
        "--Segundo usuario\n",
        "START TRANSACTION;\n",
        "SELECT saldo FROM Cuentas WHERE id_cuenta = 1;\n",
        "UPDATE Cuentas SET saldo = saldo - 50 WHERE id_cuenta = 1;\n",
        "COMMIT;"
      ],
      "metadata": {
        "id": "y7CO5qzrkZvL"
      },
      "execution_count": null,
      "outputs": []
    },
    {
      "cell_type": "markdown",
      "source": [
        "SERIALIZABLE:"
      ],
      "metadata": {
        "id": "qwbuGFs7kxsz"
      }
    },
    {
      "cell_type": "code",
      "source": [
        "%%sql\n",
        "-- Primer usuario\n",
        "SET TRANSACTION ISOLATION LEVEL SERIALIZABLE;\n",
        "BEGIN;\n",
        "SELECT saldo FROM Cuentas WHERE id_cuenta = 1;\n",
        "UPDATE Cuentas SET saldo = saldo - 100 WHERE id_cuenta = 1;\n",
        "--Segundo usuario\n",
        "SET TRANSACTION ISOLATION LEVEL SERIALIZABLE;\n",
        "BEGIN;\n",
        "SELECT saldo FROM Cuentas WHERE id_cuenta = 1;\n",
        "UPDATE Cuentas SET saldo = saldo - 100 WHERE id_cuenta = 1;\n",
        "COMMIT;"
      ],
      "metadata": {
        "id": "ClS90AWKk2B6"
      },
      "execution_count": null,
      "outputs": []
    },
    {
      "cell_type": "markdown",
      "source": [
        "\n",
        "\n",
        "* **Read commited**: Ambas transacciones verán el mismo saldo inicial. La 2datransacción no\n",
        "vera los cambios realizados por la 1ra. El saldo será el mismo en ambos casos, pero una de\n",
        "las extracciones no queda reflejada.\n",
        "*  **Serializable**: Las transacciones se ejecutan una después de otra, pero la base de datos\n",
        "evita que lean el mismo saldo simultáneamente. Por lo tanto, la 2da operación fallara al tatar\n",
        "de hacer el commit.\n",
        "\n",
        "\n"
      ],
      "metadata": {
        "id": "6gLRcQNklPOD"
      }
    },
    {
      "cell_type": "markdown",
      "source": [
        "Ejercicio 4:"
      ],
      "metadata": {
        "id": "EkWjDmUZln6L"
      }
    },
    {
      "cell_type": "markdown",
      "source": [
        "Sin indices"
      ],
      "metadata": {
        "id": "ckcUmfNFozvf"
      }
    },
    {
      "cell_type": "code",
      "source": [
        "%%sql\n",
        "EXPLAIN SELECT * FROM productos WHERE marca = 'Stark';"
      ],
      "metadata": {
        "id": "9rVFpFNKot96"
      },
      "execution_count": null,
      "outputs": []
    },
    {
      "cell_type": "markdown",
      "source": [
        "Al utilizar full table scan (sin índices) se tardo 0.1 segundos."
      ],
      "metadata": {
        "id": "2ySuN8vVpQkJ"
      }
    },
    {
      "cell_type": "markdown",
      "source": [
        "Con indices:"
      ],
      "metadata": {
        "id": "Kp7lkhTho6rB"
      }
    },
    {
      "cell_type": "code",
      "source": [
        "%%sql\n",
        "CREATE INDEX idx_marca ON productos(marca);\n",
        "EXPLAIN SELECT * FROM productos WHERE marca = 'Stark';"
      ],
      "metadata": {
        "id": "HXeOYeSOo-Dp"
      },
      "execution_count": null,
      "outputs": []
    },
    {
      "cell_type": "markdown",
      "source": [
        "Se pudo ver que el tiempo de lectura fue menor al que se obtuvo sin la utilización de\n",
        "índices, ya que tardo 0.016 segundos."
      ],
      "metadata": {
        "id": "3CpYYezApRVI"
      }
    },
    {
      "cell_type": "markdown",
      "source": [
        "Ejercicio 6:"
      ],
      "metadata": {
        "id": "wi5fXAxXqzmF"
      }
    },
    {
      "cell_type": "markdown",
      "source": [
        "Creamos la vista"
      ],
      "metadata": {
        "id": "FdHm-gYMrKIn"
      }
    },
    {
      "cell_type": "code",
      "source": [
        "%%sql\n",
        "CREATE VIEW ventas_mensuales AS\n",
        "SELECT\n",
        "    id AS producto_id,\n",
        "    nombre,\n",
        "    DATE_FORMAT(fecha_creacion, '%Y-%m') AS mes,\n",
        "    stock AS total_vendido\n",
        "FROM productos;"
      ],
      "metadata": {
        "id": "8v83G09gq8WM"
      },
      "execution_count": null,
      "outputs": []
    },
    {
      "cell_type": "markdown",
      "source": [
        "Ejecutamos la consulta\n"
      ],
      "metadata": {
        "id": "OyVlluRkrNC4"
      }
    },
    {
      "cell_type": "code",
      "source": [
        "%%sql\n",
        "SELECT\n",
        "    producto_id,\n",
        "    nombre,\n",
        "    SUM(total_vendido) AS total_ventas\n",
        "FROM ventas_mensuales\n",
        "GROUP BY producto_id, nombre\n",
        "ORDER BY total_ventas DESC\n",
        "LIMIT 5;"
      ],
      "metadata": {
        "id": "TmneYgtorFBQ"
      },
      "execution_count": null,
      "outputs": []
    },
    {
      "cell_type": "markdown",
      "source": [
        "Ejercicio 7:"
      ],
      "metadata": {
        "id": "mrGIQxLXrTif"
      }
    },
    {
      "cell_type": "code",
      "source": [
        "%%sql\n",
        "CREATE USER 'analista'@'localhost' IDENTIFIED BY 'analista';\n",
        "\n",
        "GRANT SELECT ON BaseDeDatos.productos TO 'analista'@'localhost';\n"
      ],
      "metadata": {
        "id": "jWfEL82XrbJY"
      },
      "execution_count": null,
      "outputs": []
    },
    {
      "cell_type": "markdown",
      "source": [
        "En el bash"
      ],
      "metadata": {
        "id": "od3Xwljjr2u5"
      }
    },
    {
      "cell_type": "code",
      "source": [
        "mysql -u analista -p"
      ],
      "metadata": {
        "id": "_SxTa3EEr_1A"
      },
      "execution_count": null,
      "outputs": []
    },
    {
      "cell_type": "markdown",
      "source": [
        "Probar desde el usuario analista"
      ],
      "metadata": {
        "id": "UFzwaN2AsEdp"
      }
    },
    {
      "cell_type": "code",
      "source": [
        "%%sql\n",
        "INSERT INTO productos (id, nombre, descripcion, precio, stock, categoria, marca, fecha_creacion)\n",
        "VALUES (97, 'NombProd', 'desc', 68, 1, 'cat', 'marca', '2025-07-16');"
      ],
      "metadata": {
        "id": "z2zyaZDnr5tg"
      },
      "execution_count": null,
      "outputs": []
    },
    {
      "cell_type": "markdown",
      "source": [
        "Al tratar de insertar con el usuario salta el siguiente mensaje:\n",
        "**ERROR 1142 (42000): INSERT command denied to user 'usuario'@'localhost'\n",
        "for table 'productos'**\n",
        "Ya que el usuario solo tiene permiso de SELECT, y no puede ejecutar comandos como\n",
        "insert."
      ],
      "metadata": {
        "id": "0-QE4hKdsnzw"
      }
    },
    {
      "cell_type": "markdown",
      "source": [
        "Ejercicio 8:"
      ],
      "metadata": {
        "id": "0qWN9-Ixs8BY"
      }
    },
    {
      "cell_type": "code",
      "source": [
        "%%sql\n",
        "CREATE TABLE AuditoriaClientes (\n",
        "    id_auditoria INT PRIMARY KEY AUTO_INCREMENT,\n",
        "    id_cliente INT,\n",
        "    operacion VARCHAR(10),\n",
        "    fecha TIMESTAMP DEFAULT CURRENT_TIMESTAMP,\n",
        "    datos_anterior TEXT,\n",
        "    datos_nuevo TEXT\n",
        ");"
      ],
      "metadata": {
        "id": "U2rzYIjvs_Av"
      },
      "execution_count": null,
      "outputs": []
    },
    {
      "cell_type": "code",
      "source": [
        "%%sql\n",
        "CREATE TRIGGER before_cliente_update\n",
        "BEFORE UPDATE ON Clientes\n",
        "FOR EACH ROW\n",
        "BEGIN\n",
        "    INSERT INTO AuditoriaClientes (id_cliente, operacion, datos_anterior, datos_nuevo)\n",
        "    VALUES (OLD.id_cliente, 'UPDATE', OLD.nombre, NEW.nombre);\n",
        "END;\n",
        "\n",
        "CREATE TRIGGER before_cliente_delete\n",
        "BEFORE DELETE ON Clientes\n",
        "FOR EACH ROW\n",
        "BEGIN\n",
        "    INSERT INTO AuditoriaClientes (id_cliente, operacion, datos_anterior)\n",
        "    VALUES (OLD.id_cliente, 'DELETE', OLD.nombre);\n",
        "END;\n",
        "\n",
        "CREATE TRIGGER after_cliente_insert\n",
        "AFTER INSERT ON Clientes\n",
        "FOR EACH ROW\n",
        "BEGIN\n",
        "    INSERT INTO AuditoriaClientes (id_cliente, operacion, datos_nuevo)\n",
        "    VALUES (NEW.id_cliente, 'INSERT', NEW.nombre);\n",
        "END;"
      ],
      "metadata": {
        "id": "x1dZ0REutJvX"
      },
      "execution_count": null,
      "outputs": []
    },
    {
      "cell_type": "markdown",
      "source": [
        "Ejercicio 9:"
      ],
      "metadata": {
        "id": "hM2ZgxuMtXEf"
      }
    },
    {
      "cell_type": "markdown",
      "source": [
        "Crea copia de seguridad"
      ],
      "metadata": {
        "id": "k1amGzujtqe3"
      }
    },
    {
      "cell_type": "code",
      "source": [
        "mysqldump -u $DB_USER -p$DB_PASSWORD $DB_NAME >$BACKUP_FILE\n"
      ],
      "metadata": {
        "id": "oc6bDirztZOQ"
      },
      "execution_count": null,
      "outputs": []
    },
    {
      "cell_type": "markdown",
      "source": [
        "Hacer el script ejecutable"
      ],
      "metadata": {
        "id": "HOpLJJ8Dt8BP"
      }
    },
    {
      "cell_type": "code",
      "source": [
        "chmod +x backup_mysql.sh"
      ],
      "metadata": {
        "id": "C87u8vBSt384"
      },
      "execution_count": null,
      "outputs": []
    },
    {
      "cell_type": "markdown",
      "source": [
        "Configurar el Cron Job para el Backup Diario\n"
      ],
      "metadata": {
        "id": "EmtAE6Oat_8O"
      }
    },
    {
      "cell_type": "code",
      "source": [
        "crontab –e"
      ],
      "metadata": {
        "id": "CET2N-MBuO44"
      },
      "execution_count": null,
      "outputs": []
    },
    {
      "cell_type": "markdown",
      "source": [
        "Añade la siguiente línea al final del archivo para ejecutar el script a las 2:00\n",
        "AM todos los días:"
      ],
      "metadata": {
        "id": "5ECdLcnRuIqA"
      }
    },
    {
      "cell_type": "code",
      "source": [
        "0 2 * * * /ruta/a/tu/script/backup_mysql.sh"
      ],
      "metadata": {
        "id": "O9sErGW9uMUP"
      },
      "execution_count": null,
      "outputs": []
    },
    {
      "cell_type": "markdown",
      "source": [
        "Restaurar el Backup"
      ],
      "metadata": {
        "id": "5gNI53J1uTH_"
      }
    },
    {
      "cell_type": "code",
      "source": [
        "mysql -u root -p tu_base_de_datos <\n",
        "/ruta/a/tu/carpeta/backups/backup_tu_base_de_datos_2025-04-21.sql"
      ],
      "metadata": {
        "id": "FfNFVWgruV-Q"
      },
      "execution_count": null,
      "outputs": []
    },
    {
      "cell_type": "markdown",
      "source": [
        "Simulación de pérdida de datos y recuperación\n",
        "\n",
        "\n",
        "1. Borrar (por error o intencionalmente) una o más tablas/filas de la base de\n",
        "datos.\n",
        "2. Restaurar desde el archivo de respaldo usando el comando anterior.\n",
        "3.Verificar que la información haya vuelto correctamente.\n",
        "\n"
      ],
      "metadata": {
        "id": "TiUlM1NpuZCH"
      }
    }
  ]
}